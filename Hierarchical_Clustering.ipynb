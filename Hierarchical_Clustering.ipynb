{
  "cells": [
    {
      "cell_type": "markdown",
      "metadata": {
        "id": "view-in-github",
        "colab_type": "text"
      },
      "source": [
        "<a href=\"https://colab.research.google.com/github/DLPY/Unsupervised-Learning-Session-1/blob/main/Hierarchical_Clustering.ipynb\" target=\"_parent\"><img src=\"https://colab.research.google.com/assets/colab-badge.svg\" alt=\"Open In Colab\"/></a>"
      ]
    },
    {
      "cell_type": "markdown",
      "id": "52c63234",
      "metadata": {
        "id": "52c63234"
      },
      "source": [
        "Open In Colab\n",
        "\n",
        "# Clustering Customers based on Bank Account Data\n",
        "\n",
        "Detail on Data: https://www.kaggle.com/shrutimechlearn/churn-modelling"
      ]
    },
    {
      "cell_type": "markdown",
      "id": "753a385d",
      "metadata": {
        "id": "753a385d"
      },
      "source": [
        "# TODO: Download source data from Github\n",
        "!wget https://github.com/DLPY/Classification_Session_1/blob/main/Churn_Modelling.csv"
      ]
    },
    {
      "cell_type": "markdown",
      "id": "216821bb",
      "metadata": {
        "id": "216821bb"
      },
      "source": [
        "# 1. Import necessary packages for performing Hierarchical Clustering"
      ]
    },
    {
      "cell_type": "code",
      "execution_count": null,
      "id": "a9571271",
      "metadata": {
        "id": "a9571271"
      },
      "outputs": [],
      "source": [
        "import matplotlib.pyplot as plt\n",
        "import pandas as pd\n",
        "import numpy as np\n",
        "import seaborn as sns\n",
        "import scipy.cluster.hierarchy as sch\n",
        "import scipy.stats as stats\n",
        "from scipy.cluster.hierarchy import dendrogram, fcluster, leaves_list, linkage\n",
        "from scipy.spatial import distance\n",
        "from sklearn import preprocessing\n",
        "from sklearn.cluster import AgglomerativeClustering\n",
        "\n",
        "\n",
        "import warnings\n",
        "warnings.filterwarnings('ignore')\n",
        "\n",
        "%matplotlib inline\n",
        "!wget https://raw.githubusercontent.com/DLPY/Classification_Session_1/main/Churn_Modelling.csv"
      ]
    },
    {
      "cell_type": "markdown",
      "id": "1ce79faf",
      "metadata": {
        "id": "1ce79faf"
      },
      "source": [
        "# **2. Read data from csv file into Pandas dataframe**"
      ]
    },
    {
      "cell_type": "code",
      "execution_count": null,
      "id": "d2cd32fb",
      "metadata": {
        "id": "d2cd32fb"
      },
      "outputs": [],
      "source": [
        "df = pd.read_csv('Churn_Modelling.csv')"
      ]
    },
    {
      "cell_type": "markdown",
      "id": "6941c4bb",
      "metadata": {
        "id": "6941c4bb"
      },
      "source": [
        "## Data Description\n",
        "This data set contains details of a bank's customers.\n",
        "\n",
        "There are various features .\n",
        "\n",
        "**Row Numbers:** Row Numbers from 1 to 10000.\n",
        "\n",
        "**CustomerId:** Unique Ids for bank customer identification.\n",
        "\n",
        "**Surname:** Customer's last name.\n",
        "\n",
        "**CreditScore:** Credit score of the customer.\n",
        "\n",
        "**Geography:** The country from which the customer belongs(Germany/France/Spain).\n",
        "\n",
        "**Gender:** Male or Female.\n",
        "\n",
        "**Age:** Age of the customer.\n",
        "\n",
        "**Tenure:** Number of years for which the customer has been with the bank.\n",
        "\n",
        "**Balance:** Bank balance of the customer.\n",
        "\n",
        "**NumOfProducts:** Number of bank products the customer is utilising.\n",
        "\n",
        "**HasCrCard:** Binary Flag for whether the customer holds a credit card with the bank or not(0=No, 1=Yes).\n",
        "\n",
        "**IsActiveMember:** Binary Flag for whether the customer is an active member with the bank or not(0=No, 1=Yes).\n",
        "\n",
        "**EstimatedSalary:** Estimated salary of the customer in Euro.\n",
        "\n",
        "**Exited:** Binary flag 1 if the customer closed account with bank and 0 if the customer is retained(0=No, 1=Yes)."
      ]
    },
    {
      "cell_type": "code",
      "execution_count": null,
      "id": "6933fe4e",
      "metadata": {
        "scrolled": true,
        "id": "6933fe4e"
      },
      "outputs": [],
      "source": [
        "df.head(5)"
      ]
    },
    {
      "cell_type": "markdown",
      "id": "08390182",
      "metadata": {
        "id": "08390182"
      },
      "source": [
        "## Quick review - columns that are useful and general to all customers (and not binary values):\n",
        "* **Balance**\n",
        "* **EstimatedSalary**\n",
        "* **CreditScore**\n",
        "* **Tenure**\n",
        "* **NumOfProducts**"
      ]
    },
    {
      "cell_type": "code",
      "execution_count": null,
      "id": "54d2756b",
      "metadata": {
        "id": "54d2756b"
      },
      "outputs": [],
      "source": [
        "features = df[['Balance', 'EstimatedSalary', 'CreditScore', 'Tenure', 'NumOfProducts']]"
      ]
    },
    {
      "cell_type": "markdown",
      "id": "20d188cf",
      "metadata": {
        "id": "20d188cf"
      },
      "source": [
        "## Quick review of the data set"
      ]
    },
    {
      "cell_type": "code",
      "execution_count": null,
      "id": "20786ce8",
      "metadata": {
        "id": "20786ce8"
      },
      "outputs": [],
      "source": [
        "features.isnull().sum()"
      ]
    },
    {
      "cell_type": "code",
      "execution_count": null,
      "id": "17aba2f7",
      "metadata": {
        "id": "17aba2f7"
      },
      "outputs": [],
      "source": [
        "# A visualise the data subset distributions.\n",
        "plt.figure(1, figsize=(15, 6))\n",
        "n = 0\n",
        "col_count = len(features.columns.values)\n",
        "for x in features.columns.values:\n",
        "    n += 1\n",
        "    plt.subplot(1, col_count, n)\n",
        "    plt.subplots_adjust(hspace=0.5, wspace=0.5)\n",
        "    sns.distplot(features[x], bins=15)\n",
        "    plt.title('Distplot of {}'.format(x))\n",
        "plt.show()"
      ]
    },
    {
      "cell_type": "markdown",
      "id": "bda76a43",
      "metadata": {
        "id": "bda76a43"
      },
      "source": [
        "# **3. Could we identify clusters using business rules? How?**"
      ]
    },
    {
      "cell_type": "code",
      "execution_count": null,
      "id": "acedb8a7",
      "metadata": {
        "id": "acedb8a7"
      },
      "outputs": [],
      "source": [
        "sns.scatterplot(x=features['EstimatedSalary'],\n",
        "                y=features['Balance'],\n",
        "                hue=features['NumOfProducts'],\n",
        "                data=features)"
      ]
    },
    {
      "cell_type": "markdown",
      "id": "2242ec3d",
      "metadata": {
        "id": "2242ec3d"
      },
      "source": [
        "# **4. Plot a dendrogram to identify the count of clusters.**"
      ]
    },
    {
      "cell_type": "code",
      "execution_count": null,
      "id": "e6d82811",
      "metadata": {
        "id": "e6d82811"
      },
      "outputs": [],
      "source": [
        "# This cutoff variable is determined by viewing the dengdrogram and 'eyeballing' the result.\n",
        "max_d = 0.7\n",
        "\n",
        "# Absolute value of correlation matrix, then subtract from 1 for disimilarity\n",
        "DF_dism = 1 - np.abs(features.corr())\n",
        "\n",
        "# Compute average linkage\n",
        "A_dist = distance.squareform(DF_dism.to_numpy() )\n",
        "Z = linkage(A_dist, method=\"average\")\n",
        "\n",
        "# Dendrogram\n",
        "# Cutting the dendrogram at max_d\n",
        "plt.axhline(y=max_d, c='k')\n",
        "D = dendrogram(Z=Z, labels=DF_dism.index, color_threshold=0.7, leaf_font_size=12, leaf_rotation=45)\n",
        "plt.show()"
      ]
    },
    {
      "cell_type": "markdown",
      "id": "9ac479b1",
      "metadata": {
        "id": "9ac479b1"
      },
      "source": [
        "# **5. Agglomerative Clustering (bottom up approach)**"
      ]
    },
    {
      "cell_type": "code",
      "execution_count": null,
      "id": "db47d3c6",
      "metadata": {
        "id": "db47d3c6"
      },
      "outputs": [],
      "source": [
        "aggloclust = AgglomerativeClustering(affinity='euclidean', compute_full_tree='auto',\n",
        "                        connectivity=None, linkage='ward',\n",
        "                        memory=None, n_clusters=4).fit(features)\n",
        "print(aggloclust)\n",
        "\n",
        "# Get the clustered labels\n",
        "labels = aggloclust.labels_"
      ]
    },
    {
      "cell_type": "code",
      "execution_count": null,
      "id": "796b6d53",
      "metadata": {
        "id": "796b6d53"
      },
      "outputs": [],
      "source": [
        "features.columns.values"
      ]
    },
    {
      "cell_type": "code",
      "execution_count": null,
      "id": "1bde471c",
      "metadata": {
        "id": "1bde471c"
      },
      "outputs": [],
      "source": [
        "# Make a plot with sub-plots to review the features within the clusters.\n",
        "# Notice that Estimated Salary/balance has especially clear distinction.\n",
        "plt.figure(1, figsize=(15, 6))\n",
        "n = 0\n",
        "col_count = len(features.columns.values)\n",
        "cols = list(features.columns.values)\n",
        "cols.remove('NumOfProducts')\n",
        "cols.remove('Tenure')\n",
        "\n",
        "for x in cols:\n",
        "    print(x)\n",
        "    sublist = list(cols)\n",
        "    sublist.remove(x)\n",
        "    newlist = sublist[n:] + sublist[:n]\n",
        "    n += 1\n",
        "    plt.subplot(1, col_count, n)\n",
        "    plt.subplots_adjust(hspace=5, wspace=0.5)\n",
        "#     plt.title('Distplot of {} and {}'.format(newlist[0], newlist[1]))\n",
        "    sns.scatterplot(x=features[newlist[1]],\n",
        "                    y=features[newlist[0]],\n",
        "                    hue=labels,\n",
        "                    data=features)\n",
        "\n",
        "plt.show()"
      ]
    },
    {
      "cell_type": "markdown",
      "id": "b1b59718",
      "metadata": {
        "id": "b1b59718"
      },
      "source": [
        "# **6. Review and compare the clusters**"
      ]
    },
    {
      "cell_type": "code",
      "execution_count": null,
      "id": "0c847c46",
      "metadata": {
        "id": "0c847c46"
      },
      "outputs": [],
      "source": [
        "# Store the results as a copy and add the cluster values to the dataframe.\n",
        "results = features.copy(deep=True)"
      ]
    },
    {
      "cell_type": "code",
      "execution_count": null,
      "id": "bbf8f0cb",
      "metadata": {
        "id": "bbf8f0cb"
      },
      "outputs": [],
      "source": [
        "results['Cluster'] = labels"
      ]
    },
    {
      "cell_type": "code",
      "execution_count": null,
      "id": "2f4ef759",
      "metadata": {
        "id": "2f4ef759"
      },
      "outputs": [],
      "source": [
        "results.head(10)"
      ]
    },
    {
      "cell_type": "markdown",
      "id": "fc89bc71",
      "metadata": {
        "id": "fc89bc71"
      },
      "source": [
        "# **7. Summary of Hierarchical Clustering**"
      ]
    },
    {
      "cell_type": "code",
      "source": [
        "features_agg = results.groupby(\"Cluster\")"
      ],
      "metadata": {
        "id": "8CP64rnAHB5O"
      },
      "id": "8CP64rnAHB5O",
      "execution_count": null,
      "outputs": []
    },
    {
      "cell_type": "code",
      "source": [
        "features_agg_avg = features_agg.mean().reset_index()\n",
        "features_agg_avg"
      ],
      "metadata": {
        "id": "buhCwHVJHJPA"
      },
      "id": "buhCwHVJHJPA",
      "execution_count": null,
      "outputs": []
    },
    {
      "cell_type": "code",
      "source": [
        "fig,ax = plt.subplots(figsize=(18,3))\n",
        "\n",
        "ax2 = ax.twinx() # Create another axes that shares the same x-axis as ax.\n",
        "ax3 = ax.twinx() # Create another axes that shares the same x-axis as ax.\n",
        "\n",
        "color=['red','blue','green']\n",
        "width = 0.2\n",
        "\n",
        "\n",
        "\n",
        "p1 = features_agg_avg.EstimatedSalary.plot(kind='bar', ax=ax, width=width, position=1, color='red', label = 'Estimated Salary')\n",
        "p2 = features_agg_avg.Balance.plot(kind='bar', color='blue', ax=ax2, width=width, position=0, label = 'Balance')\n",
        "p3 = features_agg_avg.NumOfProducts.plot(kind='bar', color='green', ax=ax3, width=width, position=2, label = 'Products')\n",
        "\n",
        "ax.grid()\n",
        "ax.set_xlabel('Cluster')\n",
        "ax.tick_params(axis='x', rotation=0)\n",
        "ax.set_ylabel('Estimated Salary')\n",
        "ax2.set_ylabel('Balance')\n",
        "ax3.set_ylabel('Products')\n",
        "ax.set_ylim(0,170000)\n",
        "ax2.set_ylim(0,170000)\n",
        "ax3.set_ylim(0,4)\n",
        "plt.title(\"Cluster Vs ( Avg Balance & Estimated Salary & Products)\", weight='bold')\n",
        "\n",
        "# ask matplotlib for the plotted objects and their labels\n",
        "lines, labels = ax.get_legend_handles_labels()\n",
        "lines2, labels2 = ax2.get_legend_handles_labels()\n",
        "lines3, labels3 = ax3.get_legend_handles_labels()\n",
        "ax.legend(loc=0)\n",
        "ax2.legend(lines + lines2, labels + labels2, loc=0)\n",
        "ax3.spines['right'].set_position(('outward', 60))\n",
        "ax3.legend(lines + lines2 +lines3, labels + labels2+labels3, loc=0)\n",
        "fig.show()"
      ],
      "metadata": {
        "id": "9NzHlReUHQ9X"
      },
      "id": "9NzHlReUHQ9X",
      "execution_count": null,
      "outputs": []
    },
    {
      "cell_type": "markdown",
      "id": "3658f3d0",
      "metadata": {
        "id": "3658f3d0"
      },
      "source": [
        "**Conclusion:** \n",
        "\n",
        "1. Avereage Balance for each cluster, from highest to lowest: 0, 2, 3, 1\n",
        "\n",
        "2. Avereage Estimated salary for each cluster, from highest to lowest: 2, 1, 0, 3\n",
        "\n",
        "3. Avereage Count of products for each cluster, from highest to lowest: 1 & 3, 0 & 2\n",
        "\n",
        "\n",
        "Balance and estimated salary appear to be the features that have the biggest influence on determining the cluster groups.  \n",
        "\n",
        "Credit Score and Tenure are equivalent across all groups.  \n",
        "\n",
        "The average count of products is similar for clusters 0 and 2, 1 and 3, although 1 and 3 have a slightly higher count on average than the other two."
      ]
    }
  ],
  "metadata": {
    "kernelspec": {
      "display_name": "Python 3",
      "name": "python3"
    },
    "language_info": {
      "name": "python"
    },
    "colab": {
      "name": "Hierarchical Clustering.ipynb",
      "provenance": [],
      "collapsed_sections": [],
      "toc_visible": true,
      "include_colab_link": true
    }
  },
  "nbformat": 4,
  "nbformat_minor": 5
}