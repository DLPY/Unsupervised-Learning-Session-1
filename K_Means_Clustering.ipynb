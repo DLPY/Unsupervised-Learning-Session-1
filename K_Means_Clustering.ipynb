{
  "cells": [
    {
      "cell_type": "markdown",
      "metadata": {
        "id": "view-in-github",
        "colab_type": "text"
      },
      "source": [
        "<a href=\"https://colab.research.google.com/github/DLPY/Unsupervised-Learning-Session-1/blob/main/K_Means_Clustering.ipynb\" target=\"_parent\"><img src=\"https://colab.research.google.com/assets/colab-badge.svg\" alt=\"Open In Colab\"/></a>"
      ]
    },
    {
      "cell_type": "markdown",
      "id": "52c63234",
      "metadata": {
        "id": "52c63234"
      },
      "source": [
        "# **Clustering Customers based on Bank Account Data**\n",
        "\n",
        "Detail on Data: https://www.kaggle.com/shrutimechlearn/churn-modelling"
      ]
    },
    {
      "cell_type": "markdown",
      "id": "753a385d",
      "metadata": {
        "id": "753a385d"
      },
      "source": [
        "## **TODO: Download source data from Github**\n",
        "!wget https://github.com/DLPY/Classification_Session_1/blob/815d80d7c1367925bc148cf698738537d7bdc1c0/Churn_Modelling.csv"
      ]
    },
    {
      "cell_type": "code",
      "source": [
        "!pip install --upgrade kneed\n",
        "!pip install colorama\n",
        "!wget https://raw.githubusercontent.com/DLPY/Classification_Session_1/main/Churn_Modelling.csv"
      ],
      "metadata": {
        "id": "GbpEYyMPKGfD"
      },
      "id": "GbpEYyMPKGfD",
      "execution_count": null,
      "outputs": []
    },
    {
      "cell_type": "markdown",
      "id": "216821bb",
      "metadata": {
        "id": "216821bb"
      },
      "source": [
        "### **1. Import necessary packages for performing K-Means Clustering**"
      ]
    },
    {
      "cell_type": "code",
      "execution_count": null,
      "id": "a9571271",
      "metadata": {
        "id": "a9571271"
      },
      "outputs": [],
      "source": [
        "import matplotlib.pyplot as plt\n",
        "import numpy as np\n",
        "import pandas as pd\n",
        "from kneed import KneeLocator\n",
        "from sklearn import metrics\n",
        "from sklearn.cluster import KMeans\n",
        "from sklearn.metrics import pairwise_distances_argmin, silhouette_score\n",
        "import seaborn as sns\n",
        "from sklearn.preprocessing import StandardScaler,normalize, MinMaxScaler\n",
        "from yellowbrick.cluster import SilhouetteVisualizer\n",
        "from termcolor import colored\n",
        "import missingno as msno \n",
        "import colorama\n",
        "from colorama import Fore, Style  # maakes strings colored\n",
        "from termcolor import colored, cprint\n",
        "\n",
        "%matplotlib inline\n",
        "\n",
        "# pd.set_option('display.max_colwidth', None)"
      ]
    },
    {
      "cell_type": "markdown",
      "id": "1ce79faf",
      "metadata": {
        "id": "1ce79faf"
      },
      "source": [
        "### **2. Read data from csv file into Pandas dataframe**"
      ]
    },
    {
      "cell_type": "code",
      "execution_count": null,
      "id": "d2cd32fb",
      "metadata": {
        "id": "d2cd32fb"
      },
      "outputs": [],
      "source": [
        "df = pd.read_csv('Churn_Modelling.csv')"
      ]
    },
    {
      "cell_type": "code",
      "execution_count": null,
      "id": "6933fe4e",
      "metadata": {
        "scrolled": true,
        "id": "6933fe4e"
      },
      "outputs": [],
      "source": [
        "df.head(5)"
      ]
    },
    {
      "cell_type": "code",
      "source": [
        "def first_looking(df):\n",
        "    print(colored(\"Shape:\", attrs=['bold']), df.shape,'\\n',\n",
        "          f\"There is \", df.shape[0], \" observation and \", df.shape[1], \" columns in the dataset.\", '\\n',\n",
        "          colored('-'*79, 'red', attrs=['bold']),\n",
        "          colored(\"\\nInfo:\\n\", attrs=['bold']), sep='')\n",
        "    print(df.info(), '\\n', \n",
        "          colored('-'*79, 'red', attrs=['bold']), sep='')\n",
        "    print(colored(\"Number of Uniques:\\n\", attrs=['bold']), df.nunique(),'\\n',\n",
        "          colored('-'*79, 'red', attrs=['bold']), sep='')\n",
        "    print(colored(\"All Columns:\", attrs=['bold']), list(df.columns),'\\n', \n",
        "          colored('-'*79, 'red', attrs=['bold']), sep='')\n",
        "\n",
        "    df.columns= df.columns.str.lower().str.replace('&', '_').str.replace(' ', '_')\n",
        "\n",
        "    print(colored(\"Columns after rename:\", attrs=['bold']), list(df.columns),'\\n',\n",
        "              colored('-'*79, 'red', attrs=['bold']), sep='')\n",
        "###############################################################################"
      ],
      "metadata": {
        "id": "mHmZj3quXFbH"
      },
      "id": "mHmZj3quXFbH",
      "execution_count": null,
      "outputs": []
    },
    {
      "cell_type": "code",
      "source": [
        "first_looking(df)"
      ],
      "metadata": {
        "id": "Vy0MmCCMm5TT"
      },
      "id": "Vy0MmCCMm5TT",
      "execution_count": null,
      "outputs": []
    },
    {
      "cell_type": "markdown",
      "source": [
        "### **3. Clustering of Customers based on Estimated Salary and Balance in the Bank**"
      ],
      "metadata": {
        "id": "Kjp3hQAriXVF"
      },
      "id": "Kjp3hQAriXVF"
    },
    {
      "cell_type": "code",
      "execution_count": null,
      "id": "bca0415e",
      "metadata": {
        "id": "bca0415e"
      },
      "outputs": [],
      "source": [
        "#features = df[['creditscore', 'countrycode', 'gendercode',  'age', 'tenure', 'balance', 'numofproducts', 'hascrcard', 'isactivemember', 'estimatedsalary']]\n",
        "features = df[['balance', 'estimatedsalary']]"
      ]
    },
    {
      "cell_type": "code",
      "execution_count": null,
      "id": "38b3ae6f",
      "metadata": {
        "id": "38b3ae6f"
      },
      "outputs": [],
      "source": [
        "# scale features that have a wide range of data points\n",
        "#scaler = MinMaxScaler()\n",
        "scaler = StandardScaler()\n",
        "scaled_features = scaler.fit_transform(features[['balance', 'estimatedsalary']])"
      ]
    },
    {
      "cell_type": "code",
      "execution_count": null,
      "id": "f30a3778",
      "metadata": {
        "id": "f30a3778"
      },
      "outputs": [],
      "source": [
        "# Choosing the Appropriate Number of Clusters\n",
        "kmeans_kwargs = {\n",
        "    'init': 'k-means++',\n",
        "    'n_init': 10,\n",
        "    'max_iter': 200,\n",
        "    'random_state': 42,\n",
        "}\n",
        "\n",
        "# A list holds the SSE values for each k\n",
        "sse = []\n",
        "for k in range(1, 11):\n",
        "    kmeans = KMeans(n_clusters=k, **kmeans_kwargs)\n",
        "    kmeans.fit(scaled_features)\n",
        "    sse.append(kmeans.inertia_)"
      ]
    },
    {
      "cell_type": "code",
      "execution_count": null,
      "id": "cf63a783",
      "metadata": {
        "id": "cf63a783"
      },
      "outputs": [],
      "source": [
        "plt.style.use('fivethirtyeight')\n",
        "plt.plot(range(1, 11), sse)\n",
        "plt.xticks(range(1, 11))\n",
        "plt.title('Elbow Method')\n",
        "plt.xlabel('Number of Clusters')\n",
        "plt.ylabel('SSE')\n",
        "plt.show()"
      ]
    },
    {
      "cell_type": "code",
      "execution_count": null,
      "id": "adf4f5a7",
      "metadata": {
        "id": "adf4f5a7"
      },
      "outputs": [],
      "source": [
        "# use kneed to programatically determine the number of clusters\n",
        "kl = KneeLocator(\n",
        "    range(1, 11), sse, curve='convex', direction='decreasing'\n",
        ")\n",
        "\n",
        "print('Optimal value for K using this method is {}'.format(kl.elbow))"
      ]
    },
    {
      "cell_type": "code",
      "source": [
        "fig, ax = plt.subplots(5,2, figsize=(10,15))\n",
        "fig.tight_layout()\n",
        "plt.subplots_adjust(left=0.1,\n",
        "                    bottom=0.1, \n",
        "                    right=0.9, \n",
        "                    top=0.9, \n",
        "                    wspace=0.4, \n",
        "                    hspace=0.4)\n",
        "\n",
        "for i in range (2,12):\n",
        "    '''\n",
        "    Create KMeans instance for different number of clusters\n",
        "    '''\n",
        "    km = KMeans(n_clusters=i)\n",
        "    q, mod = divmod(i, 2)\n",
        "\n",
        "    labels = km.fit(scaled_features).labels_\n",
        "    score_i = round(metrics.silhouette_score(scaled_features, labels, metric='euclidean'), 2)\n",
        "\n",
        "    '''\n",
        "    Create SilhouetteVisualizer instance with KMeans instance\n",
        "    Fit the visualizer\n",
        "    '''\n",
        "    visualizer = SilhouetteVisualizer(km, colors='yellowbrick', ax=ax[q-1][mod])\n",
        "    visualizer.fit(scaled_features)\n",
        "    visualizer.ax.set_title(str(i)  + \" clusters - Silhouette score \" + str(score_i))"
      ],
      "metadata": {
        "id": "Nnfo_-PDRAmA"
      },
      "id": "Nnfo_-PDRAmA",
      "execution_count": null,
      "outputs": []
    },
    {
      "cell_type": "code",
      "execution_count": null,
      "id": "137aacab",
      "metadata": {
        "id": "137aacab"
      },
      "outputs": [],
      "source": [
        "# Note that the optimal value for K using this method is 4.\n",
        "# Ultimately, the decision on the number of clusters to use should be\n",
        "#   guided by a combination of domain knowledge and clustering evaluation metrics."
      ]
    },
    {
      "cell_type": "code",
      "execution_count": null,
      "id": "c3e6c613",
      "metadata": {
        "id": "c3e6c613"
      },
      "outputs": [],
      "source": [
        "kmeans = KMeans(\n",
        "    init='k-means++',\n",
        "    n_clusters=4,\n",
        "    n_init=10,\n",
        "    max_iter=300,\n",
        "    random_state=42\n",
        ")"
      ]
    },
    {
      "cell_type": "code",
      "execution_count": null,
      "id": "f9cb8c0c",
      "metadata": {
        "id": "f9cb8c0c"
      },
      "outputs": [],
      "source": [
        "kmeans.fit(scaled_features)"
      ]
    },
    {
      "cell_type": "code",
      "execution_count": null,
      "id": "8d6b720d",
      "metadata": {
        "id": "8d6b720d"
      },
      "outputs": [],
      "source": [
        "# The lowest SSE value. A good model is one with low inertia AND a low number of clusters ( K ).\n",
        "kmeans.inertia_"
      ]
    },
    {
      "cell_type": "code",
      "execution_count": null,
      "id": "00ca52e5",
      "metadata": {
        "id": "00ca52e5"
      },
      "outputs": [],
      "source": [
        "# Final locations of the centroid\n",
        "kmeans.cluster_centers_"
      ]
    },
    {
      "cell_type": "code",
      "execution_count": null,
      "id": "bc970a17",
      "metadata": {
        "id": "bc970a17"
      },
      "outputs": [],
      "source": [
        "# The number of iterations required to converge\n",
        "kmeans.n_iter_"
      ]
    },
    {
      "cell_type": "code",
      "execution_count": null,
      "id": "a66dcb0b",
      "metadata": {
        "id": "a66dcb0b"
      },
      "outputs": [],
      "source": [
        "# review a sample of the labels from the overall series of labels\n",
        "kmeans.labels_[:5]"
      ]
    },
    {
      "cell_type": "code",
      "execution_count": null,
      "id": "10b5b6d3",
      "metadata": {
        "id": "10b5b6d3"
      },
      "outputs": [],
      "source": [
        "features['labels'] = kmeans.labels_"
      ]
    },
    {
      "cell_type": "code",
      "execution_count": null,
      "id": "333c2ae9",
      "metadata": {
        "id": "333c2ae9"
      },
      "outputs": [],
      "source": [
        "from sklearn.decomposition import PCA\n",
        " \n",
        "#Load Data\n",
        "pca = PCA(2) # 2 principal components are necessary.\n",
        " \n",
        "#Transform the data\n",
        "df_2d = pca.fit_transform(features)\n",
        " \n",
        "df_2d.shape"
      ]
    },
    {
      "cell_type": "code",
      "execution_count": null,
      "id": "fb2864d7",
      "metadata": {
        "id": "fb2864d7"
      },
      "outputs": [],
      "source": [
        "# PCA visualisation\n",
        "plt.style.use('seaborn-whitegrid')\n",
        "plt.figure(figsize=(10, 6))\n",
        "c_map = plt.cm.get_cmap('jet', 10)\n",
        "plt.scatter(df_2d[:, 0], df_2d[:, 1], s=15, cmap=c_map, c=df['exited'])\n",
        "plt.colorbar()\n",
        "plt.xlabel('PC-1') , plt.ylabel('PC-2')\n",
        "plt.show()"
      ]
    },
    {
      "cell_type": "code",
      "execution_count": null,
      "id": "e98bf69f",
      "metadata": {
        "id": "e98bf69f"
      },
      "outputs": [],
      "source": [
        "#Initialize the class object\n",
        "kmeans = KMeans(n_clusters=4)\n",
        "\n",
        "#predict the labels of clusters.\n",
        "label = kmeans.fit_predict(df_2d)\n",
        "\n",
        "print(label)"
      ]
    },
    {
      "cell_type": "code",
      "execution_count": null,
      "id": "c9f5206a",
      "metadata": {
        "id": "c9f5206a"
      },
      "outputs": [],
      "source": [
        "import numpy as np\n",
        "\n",
        "#Getting unique labels\n",
        " \n",
        "u_labels = np.unique(label)\n",
        " \n",
        "#plotting the results:\n",
        " \n",
        "for i in u_labels:\n",
        "    plt.scatter(df_2d[label == i, 0], df_2d[label == i, 1], label=i)\n",
        "plt.legend()\n",
        "plt.show()"
      ]
    },
    {
      "cell_type": "code",
      "execution_count": null,
      "id": "6e5db66f",
      "metadata": {
        "id": "6e5db66f"
      },
      "outputs": [],
      "source": [
        "#Getting the Centroids\n",
        "centroids = kmeans.cluster_centers_\n",
        "u_labels = np.unique(label)\n",
        " \n",
        "#plotting the results:\n",
        " \n",
        "for i in u_labels:\n",
        "    plt.scatter(df_2d[label == i, 0], df_2d[label == i, 1], label=i)\n",
        "plt.scatter(centroids[:, 0], centroids[:, 1], s=80, color='k')\n",
        "plt.legend()\n",
        "plt.show()"
      ]
    }
  ],
  "metadata": {
    "kernelspec": {
      "display_name": "Python 3",
      "name": "python3"
    },
    "language_info": {
      "name": "python"
    },
    "colab": {
      "name": "K-Means Clustering.ipynb",
      "provenance": [],
      "collapsed_sections": [],
      "include_colab_link": true
    }
  },
  "nbformat": 4,
  "nbformat_minor": 5
}